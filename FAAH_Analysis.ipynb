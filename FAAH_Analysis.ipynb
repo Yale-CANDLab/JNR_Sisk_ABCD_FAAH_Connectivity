{
 "cells": [
  {
   "cell_type": "markdown",
   "metadata": {},
   "source": [
    "# FAAH Genotype Analysis"
   ]
  },
  {
   "cell_type": "code",
   "execution_count": null,
   "metadata": {},
   "outputs": [],
   "source": [
    "import pandas as pd\n",
    "import numpy as np\n",
    "from scipy.stats import zscore\n",
    "import matplotlib.pyplot as plt\n",
    "import seaborn as sns\n",
    "from statannot import add_stat_annotation\n",
    "import statsmodels.api as sm\n",
    "import statsmodels.formula.api as smf\n",
    "from statsmodels.graphics.factorplots import interaction_plot\n",
    "import sklearn \n",
    "from scipy.stats import ttest_ind\n",
    "from datetime import date\n",
    "today = str(date.today())\n",
    "\n",
    "pd.options.display.max_rows = 999\n",
    "pd.options.display.max_columns = 999"
   ]
  },
  {
   "cell_type": "code",
   "execution_count": null,
   "metadata": {},
   "outputs": [],
   "source": [
    "print(sm.__version__)\n",
    "print(sklearn.__version__)\n",
    "print(bct.__version__)"
   ]
  },
  {
   "cell_type": "code",
   "execution_count": null,
   "metadata": {},
   "outputs": [],
   "source": [
    "#Read in Rest data\n",
    "home = '<path to data>'\n",
    "rest_ids_raw = pd.read_csv(home + '/rest_subjectlist.csv', index_col=0) #All ids with resting state scans"
   ]
  },
  {
   "cell_type": "code",
   "execution_count": null,
   "metadata": {},
   "outputs": [],
   "source": [
    "# Read in list of subjects who passed exclusion criteria\n",
    "included = pd.read_csv(home + '/symptoms/SubjectsIncluded_FromScreener.csv', \n",
    "                       header = None, names = ['subjectkey'])\n",
    "included['subjectkey'] =included['subjectkey'].str.replace('sub-NDAR', 'NDAR_')\n",
    "\n",
    "#Drop incorrect IDs per Known Issues\n",
    "gen_id_bad = pd.read_csv(home + '/genetics3.0/111.incorrect.genetic.subjectid.csv',\n",
    "                        dtype = 'str').rename(columns = {'x':'subjectkey'})\n",
    "\n",
    "# Merge with subjects who have neuroimaging data to create final subject list\n",
    "rest_ids_init = pd.merge(rest_ids_raw, included, how = 'inner')\n",
    "print(rest_ids_init.shape)"
   ]
  },
  {
   "cell_type": "code",
   "execution_count": null,
   "metadata": {},
   "outputs": [],
   "source": [
    "# Read in batch infor for genotyping--need to exclude plate 461\n",
    "plate = pd.read_csv(home + '/genetics3.0/ABCD_release3.0_.batch_info.txt', sep = '\\t')\n",
    "badplate = plate[plate['Axiom_Plate']== 461]\n",
    "badplate_ids = pd.Series(badplate['abcd.id_redcap'], name = 'subjectkey')"
   ]
  },
  {
   "cell_type": "code",
   "execution_count": null,
   "metadata": {},
   "outputs": [],
   "source": [
    "#Merge bad ids together\n",
    "print(len(badplate_ids), len(gen_id_bad))\n",
    "all_badids = pd.concat([badplate_ids, gen_id_bad])\n",
    "print(len(all_badids))"
   ]
  },
  {
   "cell_type": "code",
   "execution_count": null,
   "metadata": {},
   "outputs": [],
   "source": [
    "def drop_bad_rows(all_subs, bad_subs):\n",
    "    df = all_subs.set_index('subjectkey')\n",
    "    for i in range(0, len(bad_subs)):\n",
    "        try:\n",
    "            bsub = bad_subs['subjectkey'][i]\n",
    "            df.drop(bsub, axis=0, inplace = True)\n",
    "        except:\n",
    "            pass\n",
    "        \n",
    "    return df.reset_index()\n",
    "        \n",
    "rest_ids = drop_bad_rows(rest_ids_init, all_badids)\n",
    "print(rest_ids.shape)"
   ]
  },
  {
   "cell_type": "code",
   "execution_count": null,
   "metadata": {},
   "outputs": [],
   "source": [
    "#Read in behavioral covariates\n",
    "behav = pd.read_csv(home + '/symptoms/full_sample_behav.csv', header = 0).drop('pds', axis=1).drop('eventname', axis=1)\n",
    "\n",
    "#Read in genetics data\n",
    "gene_dat = pd.read_csv(home + '/genetics3.0/rs324420-rw.txt', sep='\\t', names = ['subjectkey', 'gene',1, 2, 3])"
   ]
  },
  {
   "cell_type": "code",
   "execution_count": null,
   "metadata": {},
   "outputs": [],
   "source": [
    "#Read in youth mental health scores\n",
    "ymh = pd.read_csv(home + '/symptoms/abcd_mhy02.txt', sep = '\\t', engine = 'python')\n",
    "ymh1 = ymh.drop(0, axis = 0)\n",
    "#ymh_bl = ymh[ymh['eventname'] == 'baseline_year_1_arm_1']\n",
    "ymh1['cbcl_eventname'] = ymh1['eventname'].str.replace('1_year_', '').str.replace('2_year_', 'twoyear')\n",
    "bis_scores = ymh1[[\"subjectkey\", \"cbcl_eventname\", \"bis_y_ss_bis_sum\"]]"
   ]
  },
  {
   "cell_type": "code",
   "execution_count": null,
   "metadata": {},
   "outputs": [],
   "source": [
    "#Read in genetic ancestry\n",
    "anc = pd.read_csv(home + '/genetics3.0/acspsw03.txt', header = 0, sep = '\\t', \n",
    "                   engine = 'python').drop(0, axis=0)\n",
    "anc1 = anc[anc.eventname == 'baseline_year_1_arm_1']\n",
    "g_anc = anc1[[\"subjectkey\", \"genetic_af_african\", \"genetic_af_european\", \"genetic_af_east_asian\", \"genetic_af_american\"]]\n",
    "g_anc[[\"genetic_af_african\", \"genetic_af_european\", \"genetic_af_east_asian\", \"genetic_af_american\"]] = g_anc[[\"genetic_af_african\", \"genetic_af_european\", \"genetic_af_east_asian\", \"genetic_af_american\"]].astype('float')"
   ]
  },
  {
   "cell_type": "code",
   "execution_count": null,
   "metadata": {},
   "outputs": [],
   "source": [
    "genotype = []\n",
    "for i in range(0, len(gene_dat)):\n",
    "    if gene_dat['gene'][i] == '0|0':\n",
    "        genotype.append(1)\n",
    "    elif gene_dat['gene'][i] == '0|1':\n",
    "        genotype.append(2)\n",
    "    elif gene_dat['gene'][i] == '1|0':\n",
    "        genotype.append(2)\n",
    "    elif gene_dat['gene'][i] == '1|1':\n",
    "        genotype.append(2)\n",
    "    else:\n",
    "        genotype.append(np.nan)\n",
    "\n",
    "# Add genotype factor variable to genetics data\n",
    "gene_dat['genotype'] = pd.Series(genotype, dtype='category')"
   ]
  },
  {
   "cell_type": "code",
   "execution_count": null,
   "metadata": {},
   "outputs": [],
   "source": [
    "# Read in longitudinal CBCL data \n",
    "cbcl1 = pd.read_csv(home + '/symptoms/abcd_cbcls01.txt', header = 0, sep = '\\t', \n",
    "                   engine = 'python').drop(0, axis=0) #Drop descriptive line\n",
    "cbcl=cbcl1\n",
    "cbcl['subjectkey'] = cbcl['src_subject_id']\n",
    "\n",
    "#Zscore/modify CBCL variables of interest\n",
    "cbcl['cbcl_int_r'] = zscore(cbcl['cbcl_scr_syn_internal_r'].astype(float), nan_policy='omit')\n",
    "cbcl['cbcl_ext_r'] = zscore(cbcl['cbcl_scr_syn_external_r'].astype(float), nan_policy='omit')\n",
    "cbcl['cbcl_tp_r'] = zscore(cbcl['cbcl_scr_syn_totprob_r'].astype(float), nan_policy='omit')\n",
    "cbcl['cbcl_anxdisord_r'] = zscore(cbcl['cbcl_scr_dsm5_anxdisord_r'].astype(float), nan_policy='omit')\n",
    "cbcl['cbcl_anxdisord_t'] = zscore(cbcl['cbcl_scr_dsm5_anxdisord_t'].astype(float), nan_policy='omit')\n",
    "cbcl['cbcl_anxdep_r'] = zscore(cbcl['cbcl_scr_syn_anxdep_r'].astype(float), nan_policy='omit')\n",
    "cbcl['cbcl_anxdep_t'] = zscore(cbcl['cbcl_scr_syn_anxdep_t'].astype(float), nan_policy='omit')\n",
    "cbcl['cbcl_age'] = cbcl['interview_age'].astype(float)\n",
    "cbcl['cbcl_eventname'] = cbcl['eventname'].str.replace('1_year_', '').str.replace('2_year_', 'twoyear')\n",
    "#cbcl = cbcl[cbcl['eventname'] != '2_year_follow_up_y_arm_1']\n",
    "cbcl = cbcl.drop(['sex'], axis=1)"
   ]
  },
  {
   "cell_type": "code",
   "execution_count": null,
   "metadata": {},
   "outputs": [],
   "source": [
    "#Read in ethnicity\n",
    "eth = pd.read_csv(home + '/ethnicity.csv', header = 0, engine = 'python')"
   ]
  },
  {
   "cell_type": "code",
   "execution_count": null,
   "metadata": {},
   "outputs": [],
   "source": [
    "# Read in Pubertal Development Scores\n",
    "pds1 = pd.read_csv(home + '/symptoms/abcd_ssphy01.txt', header = 0, sep = '\\t', \n",
    "                   engine = 'python').drop(0, axis=0) #Drop descriptive line\n",
    "\n",
    "#Confirm no 0s in baseline data\n",
    "assert 0.0 not in pds1['pds_y_ss_male_category']\n",
    "assert 0.0 not in pds1['pds_y_ss_female_category']\n",
    "\n",
    "#Drop longitudinal data\n",
    "pds=pds1[pds1.eventname == 'baseline_year_1_arm_1'].replace(np.nan, 0.0)\n",
    "pds['pds'] = pds['pds_y_ss_male_category'].astype(float) + pds['pds_y_ss_female_category'].astype(float)\n",
    "pds = pds[['subjectkey', 'eventname', 'pds']].replace(0.0, np.nan)"
   ]
  },
  {
   "cell_type": "code",
   "execution_count": null,
   "metadata": {},
   "outputs": [],
   "source": [
    "ksads_df = ksads_fu\n",
    "#Create symptom score sum -- select relevant cols\n",
    "anx_cols = ['subjectkey', 'cbcl_eventname', 'ksads_8_301_t', 'ksads_8_302_t',\n",
    "           'ksads_8_303_t', 'ksads_8_304_t', 'ksads_8_307_t', 'ksads_8_308_t',\n",
    "           'ksads_8_309_t', 'ksads_8_310_t', 'ksads_8_311_t', 'ksads_8_312_t',\n",
    "           'ksads_8_313a_t', 'ksads_8_313b_t', 'ksads_10_320_t', 'ksads_10_321_t',\n",
    "           'ksads_10_322_t', 'ksads_10_323_t', 'ksads_10_324_t', 'ksads_10_325_t',\n",
    "           'ksads_10_326_t', 'ksads_10_327_t', 'ksads_10_328_t', 'ksads_10_329_t',\n",
    "           'ksads_10_330_t']\n",
    "anx_df = ksads_df[anx_cols].replace(np.nan, 0.0)\n",
    "sum_scores = anx_df.loc[:,'ksads_8_301_t':'ksads_10_330_t'].astype(float).sum(axis=1)\n",
    "anx_df['anx_sum'] = sum_scores\n",
    "anx_df_final = anx_df[anx_df['anx_sum'] > 0][[\"subjectkey\", \"cbcl_eventname\", \"anx_sum\"]]"
   ]
  },
  {
   "cell_type": "code",
   "execution_count": null,
   "metadata": {},
   "outputs": [],
   "source": [
    "#Merge final data\n",
    "#One timepoint\n",
    "m1 = pd.merge(gene_dat[['subjectkey', 'genotype']], behav, on='subjectkey', how='inner')\n",
    "m2 = pd.merge(m1, rest_ids, on='subjectkey', how='inner')\n",
    "m3 = pd.merge(m2, g_anc, on='subjectkey', how='inner')\n",
    "m4  = pd.merge(m3, eth, on = 'subjectkey', how = 'left')\n",
    "m5 = pd.merge(m4, pds, on = 'subjectkey', how = 'inner')\n",
    "#Two timepoints\n",
    "m6 = pd.merge(m5, cbcl, on = 'subjectkey', how='inner')\n",
    "m7 = pd.merge(m6, bis_scores, on = ['subjectkey', 'cbcl_eventname'], how = 'inner')\n",
    "#Master dataframe\n",
    "master = m6\n",
    "print(master.shape)\n",
    "\n",
    "ksads_df = pd.merge(m5, anx_df_final, on = 'subjectkey', how = 'inner')\n",
    "#Save CSVs of interest\n",
    "# baseline.to_csv(home + '/ABCD_FAAH_RestingStateSample_{}.csv'.format(today))"
   ]
  },
  {
   "cell_type": "markdown",
   "metadata": {},
   "source": [
    "### Examine interaction between genotype and timepoint in predicting CBCL Anxiety scores"
   ]
  },
  {
   "cell_type": "code",
   "execution_count": null,
   "metadata": {},
   "outputs": [],
   "source": [
    "#Select only vars of interest\n",
    "model_vars = master[[\"subjectkey\", 'genotype', 'cbcl_tp_r', 'cbcl_int_r', 'cbcl_ext_r', 'cbcl_anxdisord_r', 'cbcl_scr_dsm5_anxdisord_r',\n",
    "                     'cbcl_anxdep_r', \"cbcl_eventname\", \"cbcl_age\", \"pds\", \"sex\", \"rel_family_id\", \"site_id_l\", #\"bis_y_ss_bis_cbcl_scr_syn_anxdep_rsum\",\n",
    "                     \"mri_info_deviceserialnumber\", 'genetic_af_african', 'genetic_af_european', \"fam_income\", \"mat_ed\", 'demo_ethn_v2',\n",
    "                     'genetic_af_east_asian', 'genetic_af_american', 'mri_info_manufacturer']] \n",
    "model_vars['genotype'] = model_vars['genotype'].astype('category')\n",
    "model_vars['cbcl_scr_dsm5_anxdisord_r'] = model_vars['cbcl_scr_dsm5_anxdisord_r'].astype(float)\n",
    "selected = model_vars.dropna(how='any', axis=0) #Clean up any NaNs in selected data\n",
    "selected['cbcl_eventname'] = selected['cbcl_eventname'].str.replace('1_year_follow_up_y_arm_1', 'follow_up_y_arm_1').astype('category')\n",
    "selected['Genotype'] = selected['genotype'].replace(1, \"CC\").replace(2, 'AA/AC')\n",
    "selected['fam_income'] = selected['fam_income'].astype(float).replace(777, np.nan).replace(999, np.nan).astype('category') #Recode missing values\n",
    "selected['mat_ed'] = selected['mat_ed'].astype(float).replace(777, np.nan).replace(999, np.nan).astype('category') #Recode missing values\n",
    "selected['demo_ethn_v2'] = selected['demo_ethn_v2'].astype(float).replace(777, np.nan).replace(999, np.nan).astype('category') \n",
    "\n",
    "#Filter out subs excluded due to bad plate\n",
    "selected=selected[selected.subjectkey != 'NDAR_INVV7NEVHLK'] #Remove bad genotyping subscbcl_scr_syn_anxdep_r\n",
    "selected=selected[selected.subjectkey != 'NDAR_INVA7RNTEHU'] #Remove bad genotyping subs\n",
    "selected=selected.reset_index() #Avoid in|dexing errors in plots\n",
    "print(selected.shape) #Final shape\n",
    "\n",
    "#Filter by timepoint\n",
    "baseline = selected[selected['cbcl_eventname'] == 'baseline_year_1_arm_1'].dropna().reset_index()\n",
    "print(baseline.shape)\n",
    "followup = selected[selected['cbcl_eventname'] == 'twoyearfollow_up_y_arm_1'].dropna().reset_index()\n",
    "\n",
    "#Create wide follow-up data\n",
    "# followup['bis_fu'] = followup['bis_y_ss_bis_sum']\n",
    "followup['cbcl_anxdisord_fu'] = followup['cbcl_anxdisord_r']\n",
    "print(followup.shape)\n",
    "\n",
    "#Seleted plus followup scores in wide format\n",
    "selected_plus = pd.merge(baseline, followup[[\"subjectkey\", 'cbcl_anxdisord_fu']], how = 'inner').dropna(how = 'any', axis=0)\n",
    "print(selected_plus.shape)\n",
    "\n",
    "#Assertion sanity checks\n",
    "assert len(baseline) == 3109 ## For CBCL, ethnicity no NAs\n",
    "assert np.nan not in baseline['sex']\n",
    "assert np.nan not in baseline['fam_income']\n",
    "assert np.nan not in baseline['mat_ed']\n",
    "assert np.nan not in baseline['cbcl_age']\n",
    "\n",
    "#Subs with both baseline and follow up data\n",
    "long_subs = selected[selected['cbcl_eventname'] == 'twoyearfollow_up_y_arm_1'].dropna()['subjectkey']\n",
    "long_select = pd.merge(selected, long_subs, how='inner')\n",
    "\n",
    "# #Write out CSVs of interest\n",
    "# selected_plus.to_csv(home + '/Selected_Masterfile_twoTPs_{}.csv'.format(today))\n",
    "# baseline.to_csv(home + '/Baseline_Masterfile_n={}_{}.csv'.format(len(baseline),today))\n",
    "# long_select.to_csv(home + '/symptoms/cbclcheck_longitudinalsubs.csv')"
   ]
  },
  {
   "cell_type": "code",
   "execution_count": null,
   "metadata": {},
   "outputs": [],
   "source": [
    "# Demogs\n",
    "print('Mean Age: {}'.format(baseline['cbcl_age'].mean()/12))\n",
    "print('Min Age: {}'.format(baseline['cbcl_age'].min()/12))\n",
    "print('Max Age: {}'.format(baseline['cbcl_age'].max()/12))\n",
    "print('Std Dev of Age: {}'.format(baseline['cbcl_age'].std()/12))\n",
    "print('Prop. Female: {}'.format(len(baseline[baseline['sex']== 2])/len(baseline['sex'])))\n",
    "print('Prop. Male: {}'.format(len(baseline[baseline['sex']== 1])/len(baseline['sex'])))"
   ]
  },
  {
   "cell_type": "code",
   "execution_count": null,
   "metadata": {},
   "outputs": [],
   "source": [
    "#Set model variables\n",
    "yvar = 'cbcl_scr_dsm5_anxdisord_r'"
   ]
  },
  {
   "cell_type": "markdown",
   "metadata": {},
   "source": [
    "### Examine associations between CBCL Anxiety scores genotype at baseline"
   ]
  },
  {
   "cell_type": "code",
   "execution_count": null,
   "metadata": {
    "scrolled": true
   },
   "outputs": [],
   "source": [
    "#Model whether CBCL scores are predicted by genotype at baseline\n",
    "data = baseline\n",
    "data[yvar] = data[yvar].astype(float)\n",
    "#Actual model\n",
    "mod1 = sm.MixedLM.from_formula(\"{} ~ genotype + cbcl_age + sex + pds + fam_income + mat_ed + demo_ethn_v2 + genetic_af_african + genetic_af_european + genetic_af_east_asian + genetic_af_american\".format(yvar), \n",
    "                                 re_formula=\"1\", vc_formula={\"fam_id\": \"0 + C(rel_family_id)\",\n",
    "                                                             \"subjectkey\": \"0 + C(subjectkey)\"},\n",
    "                groups=\"site_id_l\", data=data )\n",
    "#results = mod1.fit()\n",
    "print('T-value: {}'.format(pd.DataFrame(results.tvalues).loc['genotype[T.2]']))\n",
    "summary = results.summary()\n",
    "print(summary)"
   ]
  },
  {
   "cell_type": "code",
   "execution_count": null,
   "metadata": {},
   "outputs": [],
   "source": [
    "#Plot non-signficant differences between genotypes at baseline\n",
    "\n",
    "sns.boxplot(x=\"Genotype\", y=yvar, palette = ['#e75454', '#5c78ec'], data=baseline)\n",
    "plt.title('Group Differences in Anxiety Symptoms by Genotype')\n",
    "plt.ylabel('CBCL Anxiety Disorder Scores')"
   ]
  },
  {
   "cell_type": "code",
   "execution_count": null,
   "metadata": {},
   "outputs": [],
   "source": [
    "#Histograms of anxiety symptom distribution\n",
    "sns.histplot(data = baseline, x = yvar, hue = 'Genotype', palette = ['#e75454', '#5c78ec'])\n",
    "plt.xlabel('CBCL Anxiety Disorder Scores')"
   ]
  },
  {
   "cell_type": "markdown",
   "metadata": {},
   "source": [
    "### Network Based Statistic Analysis"
   ]
  },
  {
   "cell_type": "code",
   "execution_count": null,
   "metadata": {},
   "outputs": [],
   "source": [
    "import bct\n",
    "from glob import glob\n",
    "from nilearn import connectome as conn\n",
    "from nilearn import plotting\n",
    "from datetime import date\n",
    "import matplotlib.cm as cm\n",
    "today = str(date.today())"
   ]
  },
  {
   "cell_type": "code",
   "execution_count": null,
   "metadata": {},
   "outputs": [],
   "source": [
    "#Set paths\n",
    "all_mats_dir = '/Users/lucindasisk/Box/LS_Folders/CANDLab/Projects/ABCD_FAAH/rest_matrices_averaged'\n",
    "all_behav_dir = all_mats_dir\n",
    "\n",
    "#Glob list of all files in this dir that match string\n",
    "subfiles = glob(all_mats_dir + '/sub-NDAR*.csv')\n",
    "\n",
    "#Create list of subjectids\n",
    "subs = []\n",
    "for i in range(0, len(subfiles)):\n",
    "    s = subfiles[i]\n",
    "    x = s.replace(all_mats_dir + '/', '')\n",
    "    sub = x.split('_')[0]\n",
    "    subs.append(sub)\n",
    "\n",
    "#Rename subjectkey \n",
    "subsers = pd.Series(subs, name = 'subjectkey').str.replace('sub-NDAR', 'NDAR_')\n",
    "\n",
    "#Merge with 'selected' dataframe (thus excluding subs that did not pass QC) \n",
    "data1 = pd.merge(subsers, baseline, how = 'inner', on='subjectkey')\n",
    "data = data1[data1.cbcl_eventname  == 'baseline_year_1_arm_1'] #'''follow_up_y_arm_1'] #\n",
    "\n",
    "assert len(data) == len(baseline.dropna())\n",
    "\n",
    "type1 = data[data.genotype == 1].drop('level_0', axis=1).reset_index()\n",
    "type2 = data[data.genotype == 2].drop('level_0', axis=1).reset_index()"
   ]
  },
  {
   "cell_type": "code",
   "execution_count": null,
   "metadata": {
    "scrolled": true
   },
   "outputs": [],
   "source": [
    "#Create empty matrices to append data into\n",
    "mat_1 = np.zeros(shape=(368, 368, len(type1)))\n",
    "mat_2 = np.zeros(shape=(368, 368, len(type2)))\n",
    "\n",
    "assert mat_1.shape[2] + mat_2.shape[2] == len(baseline)\n",
    "\n",
    "# Read in data for type 1\n",
    "for x in range(0, len(type1)):\n",
    "    #Set subject\n",
    "    sub = type1['subjectkey'][x].replace('NDAR_',  'sub-NDAR')\n",
    "    try:\n",
    "        # Read in data and append in order (3rd dim)\n",
    "        print(\"Working on {}, {} out of {}\".format(sub, x, len(type1)))\n",
    "        rest_file = glob(all_mats_dir + '/{}*.csv'.format(sub))[0]\n",
    "        mat = pd.read_csv(rest_file, header=0, index_col=0, engine='python').to_numpy()[:,0:368]\n",
    "        assert True not in np.isnan(mat)\n",
    "        mat_1[:,:,x] = mat\n",
    "    except:\n",
    "        print(\"Error on {}\".format(sub))\n",
    "\n",
    "# Read in data for type 2\n",
    "for x in range(0, len(type2)):\n",
    "    #Set subject\n",
    "    sub = type2['subjectkey'][x].replace('NDAR_',  'sub-NDAR')\n",
    "    try:\n",
    "        # Read in data and append in order (3rd dim)\n",
    "        print(\"Working on {}, {} out of {}\".format(sub, x, len(type2)))\n",
    "        rest_file = glob(all_mats_dir + '/{}*.csv'.format(sub))[0]\n",
    "        mat = pd.read_csv(rest_file, header=0, index_col=0, engine='python').to_numpy()[:,0:368]\n",
    "        assert True not in np.isnan(mat)\n",
    "        mat_2[:,:,x] = mat\n",
    "    except:\n",
    "        print(\"Error on {}\".format(sub))"
   ]
  },
  {
   "cell_type": "code",
   "execution_count": null,
   "metadata": {},
   "outputs": [],
   "source": [
    "# #Run Network-Based Statistic! \n",
    "# k = 10000\n",
    "# thresh = 1.96\n",
    "# nbs_pval, nbs_adj, nbs_null = bct.nbs_bct(x = mat_1, y = mat_2, \n",
    "#                                           thresh = thresh, k=k, #Thresholded at t= 1.96, p=0.05 (t= 2.58; p=0.01) according to calculation here (df 2128; for two-tailed) https://statscalculator.com/tcriticalvaluecalculator?x1=0.01&x2=2128\n",
    "#                                           tail='both', paired=False, verbose=False)"
   ]
  },
  {
   "cell_type": "code",
   "execution_count": null,
   "metadata": {},
   "outputs": [],
   "source": [
    "# print(nbs_pval)"
   ]
  },
  {
   "cell_type": "code",
   "execution_count": null,
   "metadata": {},
   "outputs": [],
   "source": [
    "## Save out computed adjacency matrix\n",
    "today = str(date.today())\n",
    "\n",
    "#Read in adjacency matrix generated from cross validation\n",
    "nbs_adj = pd.read_csv(home + '/Final_Adjacency_Matrix_nRuns19936_2021-03-03.csv',header = 0, index_col = 0, dtype = int).to_numpy()\n",
    "print(nbs_adj.shape)\n",
    "network_value = 1.0"
   ]
  },
  {
   "cell_type": "code",
   "execution_count": null,
   "metadata": {},
   "outputs": [],
   "source": [
    "#Read in Shen Atlas information for plotting\n",
    "shen_index = pd.read_csv(home + '/shen368/shen_368_BAindexing_MNI', header = 0, names = ['subunit', 'name', 'MNI_X', 'MNI_Y', 'MNI_Z', 'Tal_X', 'Tal_Y', 'Tal_Z'])\n",
    "shen_small = shen_index.sort_values(by='subunit')\n",
    "#Select MNI Coordinates\n",
    "shen_select = shen_small[['MNI_X', 'MNI_Y', 'MNI_Z']].to_numpy()"
   ]
  },
  {
   "cell_type": "code",
   "execution_count": null,
   "metadata": {},
   "outputs": [],
   "source": [
    "# #Plot in glass brain\n",
    "# from nilearn.connectome import ConnectivityMeasure\n",
    "# nbs_adj_edited = pd.DataFrame(nbs_adj).replace([11.0, 5.0, 7.0, 2.0, 3.0, 4.0, 8.0, 6.0, 9.0, 10.0], 0.0)\n",
    "\n",
    "# plotting.plot_connectome(adjacency_matrix = nbs_adj_edited,\n",
    "#                          node_coords = shen_select,\n",
    "#                          node_size = 6)"
   ]
  },
  {
   "cell_type": "code",
   "execution_count": null,
   "metadata": {},
   "outputs": [],
   "source": [
    "#Extract mask for only significant network (filter)\n",
    "def get_mask(adj_mat, val):\n",
    "    mask = np.argwhere(adj_mat == val)\n",
    "    print(mask.shape)\n",
    "    return mask\n",
    "\n",
    "all_network_mask = get_mask(nbs_adj, network_value)"
   ]
  },
  {
   "cell_type": "code",
   "execution_count": null,
   "metadata": {},
   "outputs": [],
   "source": [
    "# Filter mask to remove duplicate indices\n",
    "def filter_mask(mask):\n",
    "    mask = mask.tolist()\n",
    "    final_mask = []\n",
    "    for i in range(0, len(mask)):\n",
    "        pair = mask[i]\n",
    "        v1 = pair[0]\n",
    "        v2 = pair[1]\n",
    "        if [v2, v1]  in final_mask:\n",
    "            pass\n",
    "        else:\n",
    "            final_mask.append([v1, v2])\n",
    "    print(\"Original mask length: {}\".format(len(mask)))\n",
    "    print(\"Length with duplicates removed: {}\".format(len(final_mask)))\n",
    "    return final_mask\n",
    "    \n",
    "network_mask = filter_mask(all_network_mask)   "
   ]
  },
  {
   "cell_type": "code",
   "execution_count": null,
   "metadata": {},
   "outputs": [],
   "source": [
    "# Create new adjacency matrix\n",
    "\n",
    "def get_adj_mat(mask):\n",
    "    final_mat = np.zeros([368, 368])\n",
    "    for j in range(0, len(mask)):\n",
    "        val1 = mask[j][0]\n",
    "        val2 = mask[j][1]\n",
    "        final_mat[val1, val2] = 1.0\n",
    "        final_mat[val2, val1] = 1.0\n",
    "    return final_mat"
   ]
  },
  {
   "cell_type": "code",
   "execution_count": null,
   "metadata": {},
   "outputs": [],
   "source": [
    "#Get list of subject IDS for diff genotypes\n",
    "t1subs = type1['subjectkey']\n",
    "t2subs = type2['subjectkey']\n",
    "\n",
    "#Function to extract values\n",
    "def get_network_values(mask, mats, subs, valence):\n",
    "    n_pairs = int(len(mask))\n",
    "    mask_mat = np.ones((mats.shape[2], n_pairs))\n",
    "    for i in range(0, n_pairs):\n",
    "        inds = mask[i]\n",
    "        x = inds[0]\n",
    "        y = inds[1]\n",
    "        mask_mat[:, i]= mats[x, y]\n",
    "    net_df = pd.DataFrame(mask_mat)\n",
    "    net_df_mean = net_df.sum(axis=1)\n",
    "    net_s = pd.Series(net_df_mean, name = \"net_{}_var\".format(valence))\n",
    "    return net_s, net_df\n",
    "\n",
    "#Function to separate left and right tails\n",
    "def get_tails(mask, ctl_mat, pt_mat):\n",
    "    n_pairs = int(len(mask))\n",
    "    positive_edges = []\n",
    "    negative_edges = []\n",
    "    for i in range(0, len(mask)):\n",
    "        inds = mask[i]\n",
    "        x = inds[0]\n",
    "        y = inds[1]\n",
    "        col1= ctl_mat[x, y]\n",
    "        col2= pt_mat[x, y]\n",
    "        t, p = ttest_ind(col1, col2)\n",
    "        if t > 0:\n",
    "            #print('{} > than {}'.format(col1.mean().round(3), col2.mean().round(3))) (Sanity check)\n",
    "            negative_edges.append(inds)\n",
    "        if t < 0:\n",
    "            #print('{} < than {}'.format(col1.mean().round(3), col2.mean().round(3))) (Sanity check)\n",
    "            positive_edges.append(inds)\n",
    "    return positive_edges, negative_edges\n",
    "            "
   ]
  },
  {
   "cell_type": "code",
   "execution_count": null,
   "metadata": {
    "scrolled": true
   },
   "outputs": [],
   "source": [
    "#Filter into positive and negative tails\n",
    "pos_tail, neg_tail = get_tails(network_mask, mat_1, mat_2)\n",
    "print(len(pos_tail), len(neg_tail))\n",
    "\n",
    "#Get positive and negative tails as dataframes for subs\n",
    "pos_network_t1, pos_network_t1_df = get_network_values(pos_tail, mat_1, t1subs, 'pos')\n",
    "pos_network_t2, pos_network_t2_df = get_network_values(pos_tail, mat_2, t2subs, 'pos')\n",
    "print(pos_network_t1.shape, print(pos_network_t2.shape))\n",
    "\n",
    "neg_network_t1, neg_network_t1_df = get_network_values(neg_tail, mat_1, t1subs, 'neg')\n",
    "neg_network_t2, neg_network_t2_df = get_network_values(neg_tail, mat_2, t2subs, 'neg')\n",
    "print(neg_network_t1.shape, print(neg_network_t2.shape))"
   ]
  },
  {
   "cell_type": "code",
   "execution_count": null,
   "metadata": {},
   "outputs": [],
   "source": [
    "# Create adjascency matrices for pos and neg edges\n",
    "pos_mattt = get_adj_mat(pos_tail)\n",
    "neg_mattt = get_adj_mat(neg_tail)\n",
    "pd.DataFrame(pos_mattt).to_csv(home + '/Final_PosEdges_Adjacency_Matrix_{}.csv'.format(today), index = False, header = False)\n",
    "pd.DataFrame(neg_mattt).to_csv(home + '/Final_NegEdges_Adjacency_Matrix_{}.csv'.format(today), index=False, header=False)"
   ]
  },
  {
   "cell_type": "code",
   "execution_count": null,
   "metadata": {},
   "outputs": [],
   "source": [
    "# Concatenate networks into one dataframe\n",
    "t1_nets = pd.concat([t1subs, pos_network_t1, neg_network_t1], axis=1)\n",
    "t2_nets = pd.concat([t2subs, pos_network_t2, neg_network_t2], axis=1)\n",
    "all_nets = pd.concat([t1_nets, t2_nets], axis=0)\n",
    "all_nets['subjectkey'] = all_nets['subjectkey'].str.replace('sub-NDAR', 'NDAR_')\n",
    "\n",
    "#Full_dfs \n",
    "t1_dfs = pd.concat([t1subs, pos_network_t1, neg_network_t1_df], axis=1)\n",
    "t2_dfs = pd.concat([t2subs, pos_network_t2, neg_network_t2_df], axis=1)\n",
    "\n",
    "net_all_dff = pd.concat([t1_dfs, t2_dfs], axis=0)"
   ]
  },
  {
   "cell_type": "code",
   "execution_count": null,
   "metadata": {},
   "outputs": [],
   "source": [
    "#Merge with Selected DF \n",
    "all_df = pd.merge(baseline, all_nets, on = 'subjectkey', how = 'inner')\n",
    "all_df['genotype'] = all_df['genotype'].astype('category')\n",
    "\n",
    "#Filter by timepoint\n",
    "baseline_netdf = all_df[all_df['cbcl_eventname'] == 'baseline_year_1_arm_1'].drop(['index'], axis=1).reset_index()\n",
    "followup_netdf = all_df[all_df['cbcl_eventname'] == 'follow_up_y_arm_1'].drop(['index'], axis=1).reset_index()\n",
    "\n",
    "baseline_netdf['demo_ethn_v2'] = baseline_netdf['demo_ethn_v2'].astype('category')\n",
    "baseline_netdf['fam_income'] = baseline_netdf['fam_income'].astype('category')\n",
    "baseline_netdf['mat_ed'] = baseline_netdf['mat_ed'].astype('category')\n",
    "\n",
    "# assert len(baseline_netdf) == 2918 ## for BIS\n",
    "#assert len(baseline_netdf) == len(selected_plus) # for CBCL\n",
    "\n",
    "#Save CSVs of interest\n",
    "#all_df.to_csv(home + '/Selected_NetworkDF_{}.csv'.format(today))"
   ]
  },
  {
   "cell_type": "code",
   "execution_count": null,
   "metadata": {},
   "outputs": [],
   "source": [
    "#Histograms of network summary score distribution --positive\n",
    "ax = sns.histplot(data = all_df, x = 'net_pos_var', hue = 'Genotype', palette = ['#e75454', '#5c78ec'])\n",
    "plt.xlabel('Network Summary Statistic (A-allele carriers > CC)', fontsize=14)\n",
    "plt.ylabel('Count',  fontsize=14)\n",
    "plt.savefig(home + '/Drafts/Figures/pos_network_histogram.png', dpi=400)"
   ]
  },
  {
   "cell_type": "code",
   "execution_count": null,
   "metadata": {},
   "outputs": [],
   "source": [
    "#Histograms of network summary score distribution --positive\n",
    "ax2 = sns.histplot(data = all_df, x = 'net_neg_var', hue = 'Genotype', palette = ['#e75454', '#5c78ec'])\n",
    "plt.xlabel('Network Summary Statistic (A-allele carriers < CC)', fontsize=14)\n",
    "plt.ylabel('Count',  fontsize=14)\n",
    "plt.savefig(home + '/Drafts/Figures/neg_network_histogram.png', dpi=400)\n"
   ]
  },
  {
   "cell_type": "code",
   "execution_count": null,
   "metadata": {},
   "outputs": [],
   "source": [
    "net = 'net_pos_var'\n",
    "tail = pos_tail"
   ]
  },
  {
   "cell_type": "code",
   "execution_count": null,
   "metadata": {},
   "outputs": [],
   "source": [
    "data = baseline_netdf\n",
    "#Confirm genotype predicts network conn ***REPLICATED in R (pvals not identical but close)***\n",
    "data['sex'] = data['sex'].astype('category')\n",
    "data['sex'].cat.remove_unused_categories(inplace = True)\n",
    "\n",
    "mod1 = sm.MixedLM.from_formula(\"{} ~ genotype + cbcl_age + sex +pds + fam_income + mat_ed + demo_ethn_v2 + genetic_af_african + genetic_af_european + genetic_af_east_asian + genetic_af_american\".format(net), \n",
    "                                 re_formula=\"1\", vc_formula={\"fam_id\": \"0 + C(rel_family_id)\",\n",
    "                                                             \"subjectkey\": \"0 + C(subjectkey)\"},\n",
    "                groups=\"mri_info_deviceserialnumber\", data=data)\n",
    "results = mod1.fit()\n",
    "print(' ')\n",
    "print('T-value: {}'.format(pd.DataFrame(results.tvalues).loc['genotype[T.2]']))\n",
    "print(' ')\n",
    "summary = results.summary()\n",
    "print(summary)"
   ]
  },
  {
   "cell_type": "code",
   "execution_count": null,
   "metadata": {},
   "outputs": [],
   "source": [
    "x = sns.boxplot(x=\"Genotype\", y=net, palette = ['#e75454', '#5c78ec'], data=baseline_netdf)\n",
    "plt.title('Group Differences in Connectivity by Genotype')"
   ]
  },
  {
   "cell_type": "code",
   "execution_count": null,
   "metadata": {},
   "outputs": [],
   "source": [
    "#Model whether network 7 predicts cbcl ***REPLICATED in R (pvals not identical but close)***\n",
    "data = baseline_netdf.dropna()\n",
    "data[yvar] = data[yvar].astype(float)\n",
    "data['sex'] = data['sex'].astype('category')\n",
    "data['sex'].cat.remove_unused_categories(inplace = True)\n",
    " # + fam_income + mat_ed + demo_ethn_v2\n",
    "netmod_2 = sm.MixedLM.from_formula(\"{} ~ {}  + pds + cbcl_age + sex +  fam_income + mat_ed + demo_ethn_v2 + genetic_af_african + genetic_af_european + genetic_af_east_asian + genetic_af_american\".format(yvar, net), \n",
    "                                 re_formula=\"1\", vc_formula={\"fam_id\": \"0 + C(rel_family_id)\",\n",
    "                                                             \"subjectkey\": \"0 + C(subjectkey)\"},\n",
    "                groups=\"mri_info_deviceserialnumber\", data= data)\n",
    "results = netmod_2.fit()\n",
    "print(' ')\n",
    "print('T-value: {}'.format(pd.DataFrame(results.tvalues).loc['{}'.format(net)]))\n",
    "print(' ')\n",
    "summary = results.summary()\n",
    "print(summary)"
   ]
  },
  {
   "cell_type": "code",
   "execution_count": null,
   "metadata": {},
   "outputs": [],
   "source": [
    "from scipy.stats import pearsonr\n",
    "corr = pearsonr(baseline_netdf['{}'.format(net)], baseline_netdf[yvar])\n",
    "print(\"Whole Sample (size {}): r={}, p={}\".format(len(baseline_netdf[yvar]),  round(corr[0], 4), round(corr[1], 4)))\n",
    "\n",
    "g1 = baseline_netdf[baseline_netdf.genotype == 1.0]\n",
    "g2 = baseline_netdf[baseline_netdf.genotype == 2.0]\n",
    "\n",
    "g1corr = pearsonr(g1['{}'.format(net)], g1[yvar])\n",
    "print(\"Genotype 1 (size {}):r={}, p={}\".format(len(g1), round(g1corr[0], 4), round(g1corr[1], 4)))\n",
    "\n",
    "g2corr = pearsonr(g2['{}'.format(net)], g2[yvar])\n",
    "print(\"Genotype 2 (size {}): r={}, p={}\".format(len(g2), round(g2corr[0], 4), round(g2corr[1], 4)))\n"
   ]
  },
  {
   "cell_type": "code",
   "execution_count": null,
   "metadata": {},
   "outputs": [],
   "source": [
    "data_both = baseline_netdf\n",
    "data_both[yvar] = data_both[yvar].astype(float)\n",
    "both_mod = sm.MixedLM.from_formula(\"{}~ {}*genotype + pds + sex +cbcl_age + fam_income + mat_ed + demo_ethn_v2 + genetic_af_african + genetic_af_european + genetic_af_east_asian + genetic_af_american\".format(yvar, net), \n",
    "                                 re_formula=\"1\", vc_formula={\"fam_id\": \"0 + C(rel_family_id)\",\n",
    "                                                             \"subjectkey\": \"0 + C(subjectkey)\"},\n",
    "                groups=\"mri_info_deviceserialnumber\", data= data_both);\n",
    "bothresults = both_mod.fit();\n",
    "print(' ')\n",
    "print('T-value: {}'.format(pd.DataFrame(bothresults.tvalues).loc['{}:genotype[T.2]'.format(net)]))\n",
    "print(' ')\n",
    "bothsummary = bothresults.summary();\n",
    "print(bothsummary)\n",
    "\n",
    "data_c = baseline_netdf[baseline_netdf['genotype'] == 1]\n",
    "data_c[yvar] = data_c[yvar].astype(float)\n",
    "data_c['mat_ed'] = data_c['mat_ed'].astype('category').cat.remove_unused_categories()\n",
    "cc_mod = sm.MixedLM.from_formula(\"{}~ {} + pds + sex +cbcl_age + fam_income + mat_ed + demo_ethn_v2 + genetic_af_african + genetic_af_european + genetic_af_east_asian + genetic_af_american\".format(yvar, net), \n",
    "                                 re_formula=\"1\", vc_formula={\"fam_id\": \"0 + C(rel_family_id)\",\n",
    "                                                             \"subjectkey\": \"0 + C(subjectkey)\"},\n",
    "                groups=\"mri_info_deviceserialnumber\", data= data_c);\n",
    "ccresults = cc_mod.fit();\n",
    "ccsummary = ccresults.summary();\n",
    "print(' ')\n",
    "print('T-value: {}'.format(pd.DataFrame(ccresults.tvalues).loc['{}'.format(net)]))\n",
    "print(' ')\n",
    "print(ccsummary)\n",
    "\n",
    "data_a = baseline_netdf[baseline_netdf['genotype'] == 2]\n",
    "data_a['mat_ed'] = data_a['mat_ed'].cat.remove_unused_categories()\n",
    "data_a[yvar] = data_a[yvar].astype(float)\n",
    "a_mod = sm.MixedLM.from_formula(\"{}~ {} + pds + sex +cbcl_age + fam_income + mat_ed + demo_ethn_v2 + genetic_af_african + genetic_af_european + genetic_af_east_asian + genetic_af_american\".format(yvar, net), \n",
    "                                 re_formula=\"1\", vc_formula={\"fam_id\": \"0 + C(rel_family_id)\",\n",
    "                                                             \"subjectkey\": \"0 + C(subjectkey)\"},\n",
    "                groups=\"mri_info_deviceserialnumber\", data= data_a);\n",
    "aresults = a_mod.fit();\n",
    "asummary = aresults.summary();\n",
    "print(' ')\n",
    "print('T-value: {}'.format(pd.DataFrame(aresults.tvalues).loc['{}'.format(net)]))\n",
    "print(' ')\n",
    "print(asummary)"
   ]
  },
  {
   "cell_type": "code",
   "execution_count": null,
   "metadata": {},
   "outputs": [],
   "source": [
    "plt.rcParams[\"font.family\"] = \"times new roman\"\n",
    "ax = sns.lmplot(x=net, y=yvar, \n",
    "           scatter = True, data=data_c, hue = 'Genotype',\n",
    "           scatter_kws={\"alpha\":.4},\n",
    "           palette=['#e75454'], line_kws={\"alpha\":1,\"lw\":3},\n",
    "           y_jitter = True)\n",
    "plt.ylabel('Anxiety Symptoms',  fontsize=24)\n",
    "plt.xlabel('Connectivity', fontsize=24)\n",
    "plt.xlim([-90, 10])\n",
    "plt.ylim([0,16])\n",
    "plt.rc('xtick', labelsize = 20) \n",
    "plt.rc('ytick', labelsize = 20) \n",
    "ax._legend.remove()\n",
    "# plt.legend(fontsize = 19,\n",
    "#            bbox_to_anchor= (0.5, 0.35, .75, 0.5),\n",
    "#            title=\"Genotype\", \n",
    "#            loc = 7,\n",
    "#            title_fontsize = 24, \n",
    "#            shadow = True, \n",
    "#            facecolor = 'white');\n",
    "\n",
    "plt.savefig(home + '/Drafts/Figures/Positive_Scatterplot.png',\n",
    "           bbox_inches='tight', pad_inches = .1)\n"
   ]
  },
  {
   "cell_type": "code",
   "execution_count": null,
   "metadata": {},
   "outputs": [],
   "source": [
    "ax = sns.lmplot(x=net, y=yvar, hue = 'Genotype',\n",
    "           scatter = True, data=data_a,\n",
    "           palette=['#5c78ec'],\n",
    "           scatter_kws={\"alpha\":.4},\n",
    "           line_kws={\"alpha\":1,\"lw\":3},\n",
    "           y_jitter = True)\n",
    "plt.ylabel('Anxiety Symptoms', fontsize=24)\n",
    "plt.xlabel('Connectivity', fontsize=24)\n",
    "plt.xlim([-90, 10])\n",
    "plt.ylim([0,16])\n",
    "plt.rc('xtick', labelsize = 20) \n",
    "plt.rc('ytick', labelsize = 20) \n",
    "ax._legend.remove()\n",
    "# plt.legend(fontsize = 19,\n",
    "#            bbox_to_anchor= (0.5, 0.35, .75, 0.5),\n",
    "#            title=\"Genotype\", \n",
    "#            loc = 7,\n",
    "#            title_fontsize = 24, \n",
    "#            shadow = True, \n",
    "#            facecolor = 'white');\n",
    "\n",
    "plt.savefig(home + '/Drafts/Figures/Negative_Scatterplot.png',\n",
    "           bbox_inches='tight', pad_inches = .1)"
   ]
  },
  {
   "cell_type": "code",
   "execution_count": null,
   "metadata": {},
   "outputs": [],
   "source": [
    "gen1 = baseline_netdf[baseline_netdf['Genotype'] == 'AA/AC']\n",
    "gen2 = baseline_netdf[baseline_netdf['Genotype'] == 'CC']\n",
    "\n",
    "net = 'net_pos_var'\n",
    "ax = sns.lmplot(x=net, y=yvar, hue='Genotype', \n",
    "                scatter = False, data=baseline_netdf,\n",
    "                fit_reg=True, y_jitter = True,\n",
    "                palette=['#e75454', '#5c78ec'], \n",
    "                scatter_kws={\"alpha\":.4})\n",
    "# sns.regplot(x=net, y=yvar, data=gen1, scatter=False,\n",
    "#            line_kws={\"alpha\":1,\"lw\":3, \"color\":\"#5c78ec\"})\n",
    "# sns.regplot(x=net, y=yvar, data=gen2, scatter=False,\n",
    "#            line_kws={\"alpha\":1,\"lw\":3, \"color\":\"#e75454\"})\n",
    "\n",
    "plt.ylabel('CBCL Anxiety Disorder Symptoms (raw scores)', fontsize = 13)\n",
    "plt.xlabel('Connectivity of edges where A-allele carriers > non-carriers', fontsize = 13)\n",
    "plt.rc('xtick', labelsize = 12) \n",
    "plt.rc('ytick', labelsize = 12) \n",
    "ax._legend.remove()\n",
    "plt.legend(fontsize = 10,\n",
    "           bbox_to_anchor= (0.4, 0.20, .85, 0.5),\n",
    "           title=\"Genotype\", \n",
    "           loc = 7,\n",
    "           title_fontsize = 13, \n",
    "           shadow = True, \n",
    "           facecolor = 'white');\n",
    "#plt.xlim([-90, 10])\n",
    "#plt.ylim([0,16])\n",
    "# plt.ylim([0,16])\n",
    "plt.savefig(home + '/Drafts/Figures/Interaction_Scatterplot.png',\n",
    "           bbox_inches='tight', pad_inches = .1, dpi=300)"
   ]
  }
 ],
 "metadata": {
  "kernelspec": {
   "display_name": "Python 3",
   "language": "python",
   "name": "python3"
  },
  "language_info": {
   "codemirror_mode": {
    "name": "ipython",
    "version": 3
   },
   "file_extension": ".py",
   "mimetype": "text/x-python",
   "name": "python",
   "nbconvert_exporter": "python",
   "pygments_lexer": "ipython3",
   "version": "3.7.6"
  }
 },
 "nbformat": 4,
 "nbformat_minor": 4
}
