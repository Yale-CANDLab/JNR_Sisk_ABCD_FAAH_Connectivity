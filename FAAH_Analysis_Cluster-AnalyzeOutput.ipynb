{
 "cells": [
  {
   "cell_type": "markdown",
   "metadata": {},
   "source": [
    "# FAAH Genotype Analysis"
   ]
  },
  {
   "cell_type": "code",
   "execution_count": null,
   "metadata": {},
   "outputs": [],
   "source": [
    "# Set variables and paths\n",
    "\n",
    "import pandas as pd\n",
    "import numpy as np\n",
    "from scipy.stats import zscore\n",
    "import matplotlib.pyplot as plt\n",
    "import seaborn as sns\n",
    "# from statannot import add_stat_annotation\n",
    "import statsmodels.api as sm\n",
    "import statsmodels.formula.api as smf\n",
    "from statsmodels.graphics.factorplots import interaction_plot\n",
    "from scipy.stats import ttest_ind\n",
    "from datetime import date\n",
    "today = str(date.today())\n",
    "import bct\n",
    "from glob import glob\n",
    "\n",
    "#Read in Rest data\n",
    "home = '/home/lms233/ABCD_FAAH'\n",
    "baseline = pd.read_csv(home + '/Baseline_Masterfile_n=3109_2021-02-24.csv')\n",
    "#Set model variables\n",
    "yvar = 'cbcl_scr_dsm5_anxdisord_r'\n",
    "#Set paths\n",
    "all_mats_dir = '<path to data>'\n",
    "out = '<path to models>/fitted_models'"
   ]
  },
  {
   "cell_type": "markdown",
   "metadata": {},
   "source": [
    "### Read in Results"
   ]
  },
  {
   "cell_type": "code",
   "execution_count": null,
   "metadata": {},
   "outputs": [],
   "source": [
    "# # Compute average NBS Adjacency matrix\n",
    "NBS_list = glob(out + '/NBS_AdjMat*')\n",
    "print('{} runs'.format(len(NBS_list)))\n",
    "out_matrix = np.ones((368, 368, len(NBS_list)))\n",
    "for i in range(0, len(NBS_list)):\n",
    "    file = NBS_list[i]\n",
    "    mat = pd.read_csv(file, index_col=0).to_numpy()\n",
    "    #Select highest value\n",
    "    net_val = mat.max()\n",
    "    mask = np.argwhere(mat == net_val)\n",
    "    #Create new adj mat\n",
    "    replaced_mat = np.zeros([368, 368])\n",
    "    for j in range(0, len(mask)):\n",
    "        val1 = mask[j, 0]\n",
    "        val2 = mask[j, 1]\n",
    "        replaced_mat[val1, val2] = 1.0\n",
    "        replaced_mat[val2, val1] = 1.0\n",
    "    f_mask = replaced_mat\n",
    "    check = f_mask.max()\n",
    "    out_matrix[:,:,i] = f_mask"
   ]
  },
  {
   "cell_type": "code",
   "execution_count": null,
   "metadata": {},
   "outputs": [],
   "source": [
    "# Compute 75% cutoff for matrix\n",
    "num_mats = len(NBS_list)\n",
    "cutoff = round(.75*num_mats)\n",
    "summed_mat =  np.sum(out_matrix, axis=2)\n",
    "\n",
    "#Create new adjacency matrix for values > cutoff value\n",
    "cutoff_mask = np.argwhere(summed_mat >= cutoff)\n",
    "final_mat = np.zeros([368, 368])\n",
    "for j in range(0, len(cutoff_mask)):\n",
    "    val1 = cutoff_mask[j, 0]\n",
    "    val2 = cutoff_mask[j, 1]\n",
    "    final_mat[val1, val2] = 1.0\n",
    "    final_mat[val2, val1] = 1.0\n",
    "\n",
    "# Write final matrix to CSV\n",
    "pd.DataFrame(final_mat).to_csv(home + '/Final_Adjacency_Matrix_nRuns{}_{}.csv'.format(len(NBS_list), today))"
   ]
  },
  {
   "cell_type": "code",
   "execution_count": null,
   "metadata": {},
   "outputs": [],
   "source": [
    "def filter_mask(mask):\n",
    "    mask = mask.tolist()\n",
    "    final_mask = []\n",
    "    for i in range(0, len(mask)):\n",
    "        pair = mask[i]\n",
    "        v1 = pair[0]\n",
    "        v2 = pair[1]\n",
    "        if [v2, v1]  in final_mask:\n",
    "            pass\n",
    "        else:\n",
    "            final_mask.append([v1, v2])\n",
    "    print(\"Original mask length: {}\".format(len(mask)))\n",
    "    print(\"Length with duplicates removed: {}\".format(len(final_mask)))\n",
    "    return final_mask\n",
    "    \n",
    "network_mask = filter_mask(cutoff_mask)\n",
    "pd.DataFrame(network_mask).to_csv(out + '/Final_Mask_nRuns{}_{}.csv'.format(len(NBS_list), today))"
   ]
  },
  {
   "cell_type": "code",
   "execution_count": null,
   "metadata": {},
   "outputs": [],
   "source": [
    "print('{} runs'.format(len(NBS_list)))\n"
   ]
  },
  {
   "cell_type": "code",
   "execution_count": null,
   "metadata": {},
   "outputs": [],
   "source": [
    "# Read in results\n",
    "net_file_temp = out + '/Feb2021_Runs/Folds/Fold*_LMEOutput_GenotypeDiffs_{}Tail*.pkl'\n",
    "\n",
    "def get_avg_sig(file_temp, intx, intx_valence, intx_name):\n",
    "    output = []\n",
    "    files = glob(file_temp.format(intx_name))\n",
    "    for i in range(0, len(files)):\n",
    "        res = sm.load(files[i])\n",
    "        tvals = pd.DataFrame(res.tvalues)\n",
    "        pvals = pd.DataFrame(res.pvalues)\n",
    "        if intx == 'T':\n",
    "            gen_vals = [tvals.loc['genotype[T.2]',:].values[0], pvals.loc['genotype[T.2]',:].values[0], \n",
    "                        tvals.loc['net_amyg_{}_var:genotype[T.2]'.format(intx_valence)].values[0], pvals.loc['net_amyg_{}_var:genotype[T.2]'.format(intx_valence)].values[0]]\n",
    "            output.append(gen_vals)\n",
    "        else:\n",
    "            gen_vals = [tvals.loc['genotype[T.2]',:].values[0], pvals.loc['genotype[T.2]',:].values[0]]\n",
    "            output.append(gen_vals)\n",
    "    return pd.DataFrame(output)\n",
    "\n",
    "def reshape_means(dfs, labels):\n",
    "    output = []\n",
    "    for i in range(0, len(dfs)):\n",
    "        df = dfs[i]\n",
    "        label = labels[i]\n",
    "        tval = round(df.mean(axis=0)[0], 3)\n",
    "        pval = round(df.mean(axis=0)[1], 3)\n",
    "        output.append([label, tval, pval])\n",
    "    return pd.DataFrame(output, columns =  ['Model', 't-value', 'p-value'])\n",
    "    \n",
    "net_pos_gen = get_avg_sig(net_file_temp, 'F', 'pos', 'Pos')\n",
    "net_neg_gen = get_avg_sig(net_file_temp, 'F', 'neg', 'Neg')\n",
    "assert len(net_pos_gen) > 0\n",
    "\n",
    "df_list = [net_pos_gen, net_neg_gen]\n",
    "label_list = ['Network-Genotype Positive Network', 'Network-Genotype Negative Network']\n",
    "\n",
    "results = reshape_means(df_list, label_list)"
   ]
  }
 ],
 "metadata": {
  "kernelspec": {
   "display_name": "Python 3",
   "language": "python",
   "name": "python3"
  },
  "language_info": {
   "codemirror_mode": {
    "name": "ipython",
    "version": 3
   },
   "file_extension": ".py",
   "mimetype": "text/x-python",
   "name": "python",
   "nbconvert_exporter": "python",
   "pygments_lexer": "ipython3",
   "version": "3.7.6"
  }
 },
 "nbformat": 4,
 "nbformat_minor": 4
}
